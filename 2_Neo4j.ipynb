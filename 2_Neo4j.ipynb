{
  "cells": [
    {
      "cell_type": "markdown",
      "metadata": {
        "id": "view-in-github",
        "colab_type": "text"
      },
      "source": [
        "<a href=\"https://colab.research.google.com/github/atuch17/SyneraTech/blob/main/3_Neo4j.ipynb\" target=\"_parent\"><img src=\"https://colab.research.google.com/assets/colab-badge.svg\" alt=\"Open In Colab\"/></a>"
      ]
    },
    {
      "cell_type": "code",
      "source": [
        "from google.colab import drive\n",
        "drive.mount('/content/drive')"
      ],
      "metadata": {
        "colab": {
          "base_uri": "https://localhost:8080/"
        },
        "id": "0y3ekAimJ1eq",
        "outputId": "02539c53-5a12-4817-ae02-532dcef4490f"
      },
      "execution_count": null,
      "outputs": [
        {
          "output_type": "stream",
          "name": "stdout",
          "text": [
            "Mounted at /content/drive\n"
          ]
        }
      ]
    },
    {
      "cell_type": "code",
      "execution_count": null,
      "metadata": {
        "id": "40CtubmkJptA",
        "colab": {
          "base_uri": "https://localhost:8080/"
        },
        "outputId": "69cb5a6e-e74a-41a0-fe82-2e8508b49543"
      },
      "outputs": [
        {
          "output_type": "stream",
          "name": "stdout",
          "text": [
            "Collecting neo4j\n",
            "  Downloading neo4j-5.13.0.tar.gz (192 kB)\n",
            "\u001b[?25l     \u001b[90m━━━━━━━━━━━━━━━━━━━━━━━━━━━━━━━━━━━━━━━━\u001b[0m \u001b[32m0.0/192.3 kB\u001b[0m \u001b[31m?\u001b[0m eta \u001b[36m-:--:--\u001b[0m\r\u001b[2K     \u001b[91m━━━━━━━━━━━━━━━━━━━━━━━━━━━━━━━\u001b[0m\u001b[91m╸\u001b[0m\u001b[90m━━━━━━━━\u001b[0m \u001b[32m153.6/192.3 kB\u001b[0m \u001b[31m4.3 MB/s\u001b[0m eta \u001b[36m0:00:01\u001b[0m\r\u001b[2K     \u001b[90m━━━━━━━━━━━━━━━━━━━━━━━━━━━━━━━━━━━━━━━━\u001b[0m \u001b[32m192.3/192.3 kB\u001b[0m \u001b[31m4.1 MB/s\u001b[0m eta \u001b[36m0:00:00\u001b[0m\n",
            "\u001b[?25h  Installing build dependencies ... \u001b[?25l\u001b[?25hdone\n",
            "  Getting requirements to build wheel ... \u001b[?25l\u001b[?25hdone\n",
            "  Installing backend dependencies ... \u001b[?25l\u001b[?25hdone\n",
            "  Preparing metadata (pyproject.toml) ... \u001b[?25l\u001b[?25hdone\n",
            "Requirement already satisfied: pytz in /usr/local/lib/python3.10/dist-packages (from neo4j) (2023.3.post1)\n",
            "Building wheels for collected packages: neo4j\n",
            "  Building wheel for neo4j (pyproject.toml) ... \u001b[?25l\u001b[?25hdone\n",
            "  Created wheel for neo4j: filename=neo4j-5.13.0-py3-none-any.whl size=265313 sha256=aeaba32b65d3d33ba10e8b4afa4140689238478a658e3c62a499ce427715d994\n",
            "  Stored in directory: /root/.cache/pip/wheels/7b/1d/b6/1be3a1e9de57bc832b7fcebbbf884186d8155bb6f1cc45be99\n",
            "Successfully built neo4j\n",
            "Installing collected packages: neo4j\n",
            "Successfully installed neo4j-5.13.0\n"
          ]
        }
      ],
      "source": [
        "# @title NEO4J CARGA DE DATOS\n",
        "!pip install neo4j\n",
        "\n",
        "from neo4j import GraphDatabase\n",
        "import csv\n",
        "\n",
        "path ='/content/drive/Shared drives/TFM/BBDD/EXPORTED/datos_exported/'\n",
        "\n",
        "# Conectar a Neo4j Aura\n",
        "uri = \"neo4j+s://31a6faa8.databases.neo4j.io\"\n",
        "username = \"neo4j\"\n",
        "password = \"TztbsyPHVS41Nk6Uz2WLneL16u3mIreEMBjDsRpi3kw\"\n",
        "\n",
        "class Neo4jImporter:\n",
        "    def __init__(self, uri, username, password):\n",
        "        self._uri = uri\n",
        "        self._username = username\n",
        "        self._password = password\n",
        "        self._driver = GraphDatabase.driver(uri, auth=(username, password))\n",
        "\n",
        "    def import_csv(self, file_path, label):\n",
        "        # Obtener el número total de filas en el archivo CSV\n",
        "        with open(file_path, 'r', encoding='utf-8') as file:\n",
        "            total_iterations = sum(1 for _ in file)\n",
        "\n",
        "        # Leer datos del archivo CSV\n",
        "        with open(file_path, 'r', encoding='utf-8') as file:\n",
        "            reader = csv.DictReader(file)\n",
        "            print('Abriendo fichero...')\n",
        "            with self._driver.session() as session:\n",
        "                for row in reader:\n",
        "                    # Crear nodo para cada fila en el CSV\n",
        "                    query = f\"CREATE (n:{label} $props)\"\n",
        "                    params = {\"props\": row}\n",
        "                    session.run(query, props=row)  # Corrección aquí\n",
        "\n",
        "    def close(self):\n",
        "        self._driver.close()\n",
        "\n",
        "\n",
        "# Crear una instancia de Neo4jImporter\n",
        "neo4j_importer = Neo4jImporter(uri, username, password)"
      ]
    },
    {
      "cell_type": "code",
      "execution_count": null,
      "metadata": {
        "id": "s3M2XKtqf81E",
        "colab": {
          "base_uri": "https://localhost:8080/"
        },
        "outputId": "2c997bff-076a-4318-c8c9-0a2896323dda"
      },
      "outputs": [
        {
          "output_type": "stream",
          "name": "stdout",
          "text": [
            "Abriendo fichero...\n",
            "Abriendo fichero...\n",
            "Abriendo fichero...\n",
            "Abriendo fichero...\n",
            "Abriendo fichero...\n",
            "Abriendo fichero...\n",
            "FIN\n"
          ]
        }
      ],
      "source": [
        "# Subir nodos a Neo4j\n",
        "neo4j_importer.import_csv(path + 'df_fusion.csv', 'Fus_Tot')\n",
        "neo4j_importer.import_csv(path + 'df_fusion_pr.csv', 'Fus_Pr')\n",
        "neo4j_importer.import_csv(path + 'df_fusion_dni.csv', 'Fus_Dni')\n",
        "neo4j_importer.import_csv(path + 'df_fusion_ct_1.csv', 'Fus_Pr_CT')\n",
        "neo4j_importer.import_csv(path + 'df_fusion_ct_2.csv', 'Fus_CT')\n",
        "neo4j_importer.import_csv(path + 'df_fusion_rtc_3.csv', 'Fus_RT')\n",
        "print('FIN')"
      ]
    },
    {
      "cell_type": "code",
      "execution_count": null,
      "metadata": {
        "id": "F6RVXVxBzt2h"
      },
      "outputs": [],
      "source": [
        "# @title Querys\n",
        "neo4j_importer = Neo4jImporter(uri, username, password)\n",
        "# ---------------------------------------------------------------------------------------------\n",
        "with neo4j_importer._driver.session() as session:\n",
        "  query_1_rel = \"\"\"\n",
        "  MATCH (p:Fus_Pr),(f:Fus_Tot), (u:Fus_Dni)\n",
        "  WHERE p.project_id = f.project_id AND f.user_dni =  u.user_dni\n",
        "  CREATE (u)-[:WORKED_ON]->(p)\n",
        "  \"\"\"\n",
        "  session.run(query_1_rel)\n",
        "\n",
        "  # Para filtrar: {project_id:'PRDLR21531BRET'}   o   {user_dni:'14305313A'}\n",
        "  query_1 = \"\"\"MATCH p=()-[:WORKED_ON]->() RETURN p;\"\"\"\n",
        "  session.run(query_1)\n",
        "\n",
        "  # ---------------------------------------------------------------------------------------------\n",
        "\n",
        "  # Se puede cambiar Pr_CancerTypes por Projects y asi obtendríamos más información\n",
        "  query_2_rel = \"\"\"\n",
        "  MATCH (p:Fus_Pr_CT)\n",
        "  MATCH (c:Fus_CT {cancer_code: p.cancer_code})\n",
        "  CREATE (p)-[:TREATS]->(c)\n",
        "  \"\"\"\n",
        "  session.run(query_2_rel)\n",
        "\n",
        "  query_2_1 = \"\"\"\n",
        "  MATCH p=()-[:TREATS]->({cancer_code: \"['melanoma']\"}) RETURN p;\"\"\"\n",
        "  session.run(query_2_1)\n",
        "\n",
        "  query_2_2 = \"\"\"\n",
        "  MATCH (p:Fus_Pr_CT)\n",
        "  SET p.research_type_code = apoc.convert.fromJsonList(p.research_type_code)\n",
        "  \"\"\"\n",
        "  session.run(query_2_2)\n",
        "\n",
        "  query_2_3 = \"\"\"\n",
        "  MATCH (r:Fus_RT)\n",
        "  SET r.research_type_code = [r.research_type_code]\n",
        "  \"\"\"\n",
        "  session.run(query_2_3)\n",
        "\n",
        "  query_3_1 = \"\"\"\n",
        "  MATCH (r:Fus_RT), (p:Fus_Pr_CT)\n",
        "  WHERE ANY(item IN r.research_type_code WHERE item IN p.research_type_code)\n",
        "  RETURN r, p LIMIT 10;\n",
        "  \"\"\"\n",
        "  session.run(query_3_1)\n",
        "\n",
        "  query_3_2 = \"\"\"\n",
        "  MATCH (r:Fus_RT), (p:Fus_Pr_CT)\n",
        "  WHERE ANY(item IN r.research_type_code WHERE item IN p.research_type_code)\n",
        "  MERGE (p)-[:RELATED_TO]->(r)\n",
        "  \"\"\"\n",
        "  session.run(query_3_2)\n",
        "\n",
        "  query_4 = \"\"\"\n",
        "  MATCH p1=(p:Fus_Pr_CT)-[:TREATS]->(c:Fus_CT)\n",
        "  OPTIONAL MATCH p2=(p)-[:RELATED_TO]->(r:Fus_RT)\n",
        "  RETURN p1, p2 ;\n",
        "  \"\"\"\n",
        "  session.run(query_4)\n",
        "  # ---------------------------------------------------------------------------------------------\n"
      ]
    }
  ],
  "metadata": {
    "colab": {
      "provenance": [],
      "include_colab_link": true
    },
    "kernelspec": {
      "display_name": "Python 3",
      "name": "python3"
    },
    "language_info": {
      "name": "python"
    }
  },
  "nbformat": 4,
  "nbformat_minor": 0
}
